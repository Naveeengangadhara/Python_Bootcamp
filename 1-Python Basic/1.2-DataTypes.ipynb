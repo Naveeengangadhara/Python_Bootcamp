{
 "cells": [
  {
   "cell_type": "markdown",
   "metadata": {},
   "source": [
    "# Basics Data Types In Python"
   ]
  },
  {
   "cell_type": "markdown",
   "metadata": {},
   "source": [
    "#### Introduction to Data Types\n",
    "we continue our discussion on Python programming, focusing on data types. Previously, we covered variables, and now we will explore data types in detail. The outline includes understanding the importance of data types in programming, exploring basic data types such as integers, floating point numbers, strings, and booleans, and later advancing to complex types like lists, tuples, sets, and dictionaries. We will also cover operations and type conversions with practical examples.\n",
    "\n"
   ]
  },
  {
   "cell_type": "markdown",
   "metadata": {},
   "source": []
  }
 ],
 "metadata": {
  "kernelspec": {
   "display_name": "pbenv",
   "language": "python",
   "name": "python3"
  },
  "language_info": {
   "name": "python",
   "version": "3.13.0"
  }
 },
 "nbformat": 4,
 "nbformat_minor": 2
}
