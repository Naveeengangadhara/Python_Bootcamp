{
 "cells": [
  {
   "cell_type": "markdown",
   "metadata": {},
   "source": [
    "# Variables"
   ]
  },
  {
   "cell_type": "code",
   "execution_count": null,
   "metadata": {},
   "outputs": [],
   "source": [
    "# Declaring and Assigning Values\n",
    "name=\"Naveen\"\n",
    "age=25\n",
    "height=5.10\n",
    "\n",
    "print(\"Name:\", name)\n",
    "print(\"Age:\", age)\n",
    "print(\"Height:\", height)"
   ]
  },
  {
   "cell_type": "code",
   "execution_count": null,
   "metadata": {},
   "outputs": [],
   "source": [
    "# Naming Conversations\n",
    "# Variablke names should be descriptive \n",
    "# They must start with a letter or underscore\n",
    "# Variable names should not start with a number"
   ]
  },
  {
   "cell_type": "code",
   "execution_count": null,
   "metadata": {},
   "outputs": [],
   "source": [
    "#Invalid variable names\n",
    "\n",
    "# 1name = \"John\"  # Cannot start with a number\n",
    "# first-name = \"Doe\"  # Cannot contain hyphens\n",
    "# @name = \"Alice\"  # Cannot start with special characters"
   ]
  },
  {
   "cell_type": "code",
   "execution_count": null,
   "metadata": {},
   "outputs": [],
   "source": [
    "# Case Sensitivity\n",
    "name = \"Alice\"\n",
    "Name = \"Bob\"  # Different variable due to case sensitivity"
   ]
  },
  {
   "cell_type": "code",
   "execution_count": null,
   "metadata": {},
   "outputs": [],
   "source": [
    "## Understanding variable types\n",
    "# Python is dynamically typed, meaning you don't need to declare the type of a variable explicitly.\n",
    "# The type is determined at runtime based on the value assigned to the variable.\n",
    "\n",
    "age = 30  # Integer\n",
    "height = 5.8  # Float\n",
    "is_student = True  # Boolean\n",
    "name = \"John\"  # String\n",
    "\n",
    "print(type(age))       # <class 'int'>"
   ]
  },
  {
   "cell_type": "code",
   "execution_count": null,
   "metadata": {},
   "outputs": [],
   "source": [
    "# Type checking\n",
    "\n",
    "type(height)"
   ]
  },
  {
   "cell_type": "code",
   "execution_count": null,
   "metadata": {},
   "outputs": [],
   "source": [
    "age=25\n",
    "print(type(age))\n",
    "\n",
    "# Type Conversion\n",
    "age_str=str(age)  # Convert integer to string\n",
    "print(age_str)\n",
    "print(type(age_str))  # <class 'str'>"
   ]
  },
  {
   "cell_type": "code",
   "execution_count": null,
   "metadata": {},
   "outputs": [],
   "source": [
    "# Dynamic Typing\n",
    "\n",
    "## Python allows the type of a variable as the program executes.\n",
    "\n",
    "var=10 #int\n",
    "print(var, type(var))\n",
    "\n",
    "var=\"Hello\"  # Now it's a string\n",
    "print(var, type(var))\n",
    "\n",
    "var=3.14  # Now it's a float\n",
    "print(var, type(var))"
   ]
  },
  {
   "cell_type": "code",
   "execution_count": null,
   "metadata": {},
   "outputs": [],
   "source": [
    "# Input from User\n",
    "\n",
    "age=input(\"Enter your age: \")\n",
    "print(\"Your age is:\", age,type(age))  # This will be a string\n",
    "\n",
    "age=int(input(\"Enter your age: \"))\n",
    "print(\"Your age is:\", age,type(age))   # This will be a Int"
   ]
  },
  {
   "cell_type": "code",
   "execution_count": null,
   "metadata": {},
   "outputs": [],
   "source": []
  }
 ],
 "metadata": {
  "kernelspec": {
   "display_name": "pbenv",
   "language": "python",
   "name": "python3"
  },
  "language_info": {
   "codemirror_mode": {
    "name": "ipython",
    "version": 3
   },
   "file_extension": ".py",
   "mimetype": "text/x-python",
   "name": "python",
   "nbconvert_exporter": "python",
   "pygments_lexer": "ipython3",
   "version": "3.13.0"
  }
 },
 "nbformat": 4,
 "nbformat_minor": 2
}
