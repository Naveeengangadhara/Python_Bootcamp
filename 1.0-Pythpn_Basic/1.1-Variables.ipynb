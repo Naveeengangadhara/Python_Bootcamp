{
 "cells": [
  {
   "cell_type": "markdown",
   "metadata": {},
   "source": [
    "# Variables in Python: Declaration, Naming, Types, and Input"
   ]
  },
  {
   "cell_type": "markdown",
   "metadata": {},
   "source": [
    "### Introduction to Variables in Python\n",
    "We are going to discuss variables in Python. The outline includes an introduction to variables, declaring and assigning variables, naming conventions, variable types, type checking and conversion, dynamic typing, practical examples, and common errors."
   ]
  },
  {
   "cell_type": "markdown",
   "metadata": {},
   "source": [
    "#### What are Variables?\n",
    "Variables are fundamental elements in programming used to store data that can be referenced and manipulated in a program. In Python, variables are created when you assign a value to them, and they do not need explicit declaration to reserve memory space. The declaration happens automatically when you assign a value to a variable."
   ]
  },
  {
   "cell_type": "markdown",
   "metadata": {},
   "source": [
    "#### Example of Variable Assignment\n",
    "If you define a as 100, this becomes the variable. Whenever you start a new notebook file, always make sure to select the kernel. If you write a = 100, this means you have created a variable a and assigned it the value 100.\n",
    "\n"
   ]
  },
  {
   "cell_type": "code",
   "execution_count": null,
   "metadata": {},
   "outputs": [],
   "source": [
    "a = 100"
   ]
  },
  {
   "cell_type": "markdown",
   "metadata": {},
   "source": [
    "#### Declaring and Assigning Variables\n",
    "You can define variables such as age = 32, height = 6.1, name = 'Krish', and a boolean variable like is_student = True. These are examples of assigning different types of values to variables."
   ]
  },
  {
   "cell_type": "code",
   "execution_count": null,
   "metadata": {},
   "outputs": [],
   "source": [
    "# Declaring and Assigning Values\n",
    "name=\"Naveen\"\n",
    "age=25\n",
    "height=5.10"
   ]
  },
  {
   "cell_type": "markdown",
   "metadata": {},
   "source": [
    "#### Printing Variables\n",
    "You can print variables to display their values in the console. For example, printing age, height, and name will show their assigned values.\n",
    "\n"
   ]
  },
  {
   "cell_type": "code",
   "execution_count": null,
   "metadata": {},
   "outputs": [],
   "source": [
    "print(\"Name:\", name)\n",
    "print(\"Age:\", age)\n",
    "print(\"Height:\", height)"
   ]
  },
  {
   "cell_type": "markdown",
   "metadata": {},
   "source": [
    "### Naming Conventions for Variables\n",
    "Naming conventions are important when defining variables. Here are some key points:\n",
    "\n",
    "- Variable names should be descriptive.\n",
    "- They must always start with a letter or an underscore (_).\n",
    "- They can contain letters, numbers, and underscores in between.\n",
    "- Variable names are case sensitive.\n"
   ]
  },
  {
   "cell_type": "markdown",
   "metadata": {},
   "source": [
    "#### Valid Variable Names\n",
    "Examples of valid variable names include first_name = 'Krish' and last_name = 'Nick'. These start with a letter and contain letters or underscores."
   ]
  },
  {
   "cell_type": "code",
   "execution_count": null,
   "metadata": {},
   "outputs": [],
   "source": [
    "first_name = 'Krish'\n",
    "last_name = 'Nick'"
   ]
  },
  {
   "cell_type": "markdown",
   "metadata": {},
   "source": [
    "#### Invalid Variable Names"
   ]
  },
  {
   "cell_type": "markdown",
   "metadata": {},
   "source": [
    "Examples of invalid variable names:\n",
    "\n",
    "- Starting with a number, such as 1age = 30.\n",
    "- Using a dash, such as first-name = 'Krish'.\n",
    "- Using special characters, such as @name = 'Krish'.\n",
    "- These will result in syntax errors."
   ]
  },
  {
   "cell_type": "code",
   "execution_count": null,
   "metadata": {},
   "outputs": [],
   "source": [
    "# 1age = 30  # Invalid\n",
    "# first-name = 'Krish'  # Invalid\n",
    "# @name = 'Krish'  # Invalid"
   ]
  },
  {
   "cell_type": "markdown",
   "metadata": {},
   "source": [
    "#### Case Sensitivity\n",
    "Variable names are case sensitive. For example, name = 'Krish' and Name = 'Nick' are two different variables."
   ]
  },
  {
   "cell_type": "code",
   "execution_count": null,
   "metadata": {},
   "outputs": [],
   "source": [
    "name = 'Krish'\n",
    "Name = 'Nick'\n",
    "print(name == Name)  # Outputs: False"
   ]
  },
  {
   "cell_type": "markdown",
   "metadata": {},
   "source": [
    "#### Understanding Variable Types\n",
    "Python is dynamically typed. This means the type of a variable is determined at runtime. Important data types include int, float, str, and bool."
   ]
  },
  {
   "cell_type": "code",
   "execution_count": null,
   "metadata": {},
   "outputs": [],
   "source": [
    "age = 30  # Integer\n",
    "height = 5.8  # Float\n",
    "is_student = True  # Boolean\n",
    "name = \"John\"  # String\n",
    "\n",
    "print(type(age))       # <class 'int'>"
   ]
  },
  {
   "cell_type": "markdown",
   "metadata": {},
   "source": [
    "#### Type Checking\n",
    "You can check the type of a variable using the type() function."
   ]
  },
  {
   "cell_type": "code",
   "execution_count": null,
   "metadata": {},
   "outputs": [],
   "source": [
    "print(type(age))  # <class 'int'>\n",
    "print(type(name))  # <class 'str'>"
   ]
  },
  {
   "cell_type": "markdown",
   "metadata": {},
   "source": [
    "#### Type Checking and Conversion\n",
    "Type checking is done using the type() function. Type conversion allows you to convert one data type to another using functions like str(), int(), and float()."
   ]
  },
  {
   "cell_type": "code",
   "execution_count": null,
   "metadata": {},
   "outputs": [],
   "source": [
    "age = 25\n",
    "print(type(age))  # <class 'int'>\n",
    "age_str = str(age)\n",
    "print(age_str)  # '25'\n",
    "print(type(age_str))  # <class 'str'>"
   ]
  },
  {
   "cell_type": "markdown",
   "metadata": {},
   "source": [
    "#### Converting Between Types\n",
    "You can convert a string that represents a number to an integer using int(). However, converting a non-numeric string to an integer will result in an error.\n",
    "\n"
   ]
  },
  {
   "cell_type": "code",
   "execution_count": null,
   "metadata": {},
   "outputs": [],
   "source": [
    "age = '25'\n",
    "print(type(int(age)))  # <class 'int'>\n",
    "\n",
    "name = 'Krish'\n",
    "# int(name)  # This will raise a ValueError"
   ]
  },
  {
   "cell_type": "markdown",
   "metadata": {},
   "source": [
    "#### Float and Integer Conversion\n",
    "A float can be converted to an integer, which removes the decimal part. You can also convert an integer to a float."
   ]
  },
  {
   "cell_type": "code",
   "execution_count": null,
   "metadata": {},
   "outputs": [],
   "source": [
    "height = 5.11\n",
    "print(int(height))  # 5\n",
    "print(float(int(height)))  # 5.0"
   ]
  },
  {
   "cell_type": "markdown",
   "metadata": {},
   "source": [
    "#### Dynamic Typing in Python\n",
    "Python allows the type of a variable to change as the program executes. For example, a variable can be assigned an integer, then a string, then a float."
   ]
  },
  {
   "cell_type": "code",
   "execution_count": null,
   "metadata": {},
   "outputs": [],
   "source": [
    "var=10 #int\n",
    "print(var, type(var))\n",
    "\n",
    "var=\"Hello\"  # Now it's a string\n",
    "print(var, type(var))\n",
    "\n",
    "var=3.14  # Now it's a float\n",
    "print(var, type(var))"
   ]
  },
  {
   "cell_type": "markdown",
   "metadata": {},
   "source": [
    "#### The Input Function\n",
    "The input() function allows the user to provide input. By default, the input is received as a string. You can convert it to another type as needed."
   ]
  },
  {
   "cell_type": "code",
   "execution_count": 15,
   "metadata": {},
   "outputs": [
    {
     "name": "stdout",
     "output_type": "stream",
     "text": [
      "23\n",
      "<class 'str'>\n",
      "<class 'int'>\n"
     ]
    }
   ],
   "source": [
    "age = input('What is your age? ')\n",
    "print(age)\n",
    "print(type(age))  # <class 'str'>\n",
    "\n",
    "# To convert to int\n",
    "typed_age = int(input('What is your age? '))\n",
    "print(type(typed_age))  # <class 'int'>"
   ]
  },
  {
   "cell_type": "markdown",
   "metadata": {},
   "source": [
    "## Simple Calculator Example\n",
    "Let us create a simple calculator using the concepts discussed. The calculator will take two numbers as input and display their sum, difference, product, and quotient."
   ]
  },
  {
   "cell_type": "code",
   "execution_count": 16,
   "metadata": {},
   "outputs": [
    {
     "name": "stdout",
     "output_type": "stream",
     "text": [
      "Sum: 4\n",
      "Difference: 0\n",
      "Product: 4\n",
      "Quotient: 1.0\n"
     ]
    }
   ],
   "source": [
    "num1 = int(input('Enter first number: '))\n",
    "num2 = int(input('Enter second number: '))\n",
    "sum_ = num1 + num2\n",
    "difference = num1 - num2\n",
    "product = num1 * num2\n",
    "quotient = num1 / num2\n",
    "print('Sum:', sum_)\n",
    "print('Difference:', difference)\n",
    "print('Product:', product)\n",
    "print('Quotient:', quotient)"
   ]
  },
  {
   "cell_type": "markdown",
   "metadata": {},
   "source": [
    "### Conclusion\n",
    "In this lesson, we have covered variables in Python, including declaration, assignment, naming conventions, types, type checking, type conversion, dynamic typing, and user input. In the next video, we will discuss more about data types and operators."
   ]
  },
  {
   "cell_type": "markdown",
   "metadata": {},
   "source": [
    "## Key Takeaways\n",
    "- Variables in Python are created by assignment and do not require explicit declaration.\n",
    "- Variable names must start with a letter or underscore, are case sensitive, and can contain letters, numbers, and underscores.\n",
    "- Python is dynamically typed, allowing variable types to change at runtime.\n",
    "- Type checking and conversion can be performed using built-in functions like type(), str(), int(), and float().\n",
    "- The input() function always returns a string, which can be typecast as needed."
   ]
  }
 ],
 "metadata": {
  "kernelspec": {
   "display_name": "pbenv",
   "language": "python",
   "name": "python3"
  },
  "language_info": {
   "codemirror_mode": {
    "name": "ipython",
    "version": 3
   },
   "file_extension": ".py",
   "mimetype": "text/x-python",
   "name": "python",
   "nbconvert_exporter": "python",
   "pygments_lexer": "ipython3",
   "version": "3.13.0"
  }
 },
 "nbformat": 4,
 "nbformat_minor": 2
}
