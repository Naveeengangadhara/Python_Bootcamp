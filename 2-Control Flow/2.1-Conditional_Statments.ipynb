{
 "cells": [
  {
   "cell_type": "markdown",
   "metadata": {},
   "source": [
    "# **Conditional Statements (if, elif, else) in Python**"
   ]
  },
  {
   "cell_type": "markdown",
   "metadata": {},
   "source": [
    "### **Introduction to Conditional Statements**\n",
    "We continue our discussion on Python, focusing on control flow, specifically conditional statements and loops. In this session, we will focus more on conditional statements.\n",
    "\n",
    "#### **Outline of Topics**\n",
    "- Introduction to conditional statements\n",
    "- Understanding the if statement and its syntax in Python\n",
    "- Exploring else if (Elif) and else statements\n",
    "- Nested conditional statements\n",
    "- Practical real-world examples\n",
    "- Common errors and best practices for using conditional statements"
   ]
  },
  {
   "cell_type": "markdown",
   "metadata": {},
   "source": [
    "#### **The if Statement**\n",
    "The if statement evaluates a condition and executes the block of code within it if the condition is true. For example, consider the following:"
   ]
  },
  {
   "cell_type": "code",
   "execution_count": null,
   "metadata": {},
   "outputs": [],
   "source": [
    "age = 20\n",
    "if age >= 18:\n",
    "    print(\"You are allowed to vote in the elections.\")"
   ]
  },
  {
   "cell_type": "markdown",
   "metadata": {},
   "source": [
    "When the if statement is executed, the condition age >= 18 is evaluated. Since age is 20, which is greater than or equal to 18, the condition is true, and the block inside the if statement is executed, printing the message."
   ]
  },
  {
   "cell_type": "markdown",
   "metadata": {},
   "source": [
    "#### **The else Statement**\n",
    "The else statement executes a block of code if the condition in the if statement is false. For example:"
   ]
  },
  {
   "cell_type": "code",
   "execution_count": null,
   "metadata": {},
   "outputs": [],
   "source": [
    "age = 16\n",
    "if age >= 18:\n",
    "    print(\"You are eligible for voting.\")\n",
    "else:\n",
    "    print(\"You are a minor.\")"
   ]
  },
  {
   "cell_type": "markdown",
   "metadata": {},
   "source": [
    "In this example, since age is 16, the condition age >= 18 is false. Therefore, the code inside the else block is executed, printing \"You are a minor.\""
   ]
  },
  {
   "cell_type": "markdown",
   "metadata": {},
   "source": [
    "#### **Nested Conditional Statements**\n",
    "Nested conditional statements allow you to place one or more if, elif, or else statements inside another conditional block. This enables more complex decision-making. For example, to determine if a number is positive, even, or odd:"
   ]
  },
  {
   "cell_type": "code",
   "execution_count": null,
   "metadata": {},
   "outputs": [],
   "source": [
    "number = int(input(\"Enter the number: \"))\n",
    "if number > 0:\n",
    "    print(\"The number is positive.\")\n",
    "    if number % 2 == 0:\n",
    "        print(\"The number is even.\")\n",
    "    else:\n",
    "        print(\"The number is odd.\")\n",
    "else:\n",
    "    print(\"The number is zero or negative.\")"
   ]
  },
  {
   "cell_type": "markdown",
   "metadata": {},
   "source": [
    "In this example, the program first checks if the number is positive. If so, it then checks if the number is even or odd using the modulus operator. If the number is not positive, it prints that the number is zero or negative."
   ]
  },
  {
   "cell_type": "code",
   "execution_count": null,
   "metadata": {},
   "outputs": [],
   "source": [
    "country= str(input(\"Enter your country: \"))\n",
    "if country.lower()==\"india\":\n",
    "    print(\"You are from WelCome.\")\n",
    "    if country.lower() == \"india\":\n",
    "        print(\"You are from Citizen of India.\")\n",
    "    else:\n",
    "        print(\"You are not from India.\")\n",
    "else:\n",
    "    print(\"You are not from India.\")\n"
   ]
  },
  {
   "cell_type": "markdown",
   "metadata": {},
   "source": [
    "#### **Practical Example: Leap Year Calculation**\n",
    "A leap year is any year divisible by 4. If the remainder is zero, it is a leap year. Using nested conditional statements, we can determine if a year is a leap year:"
   ]
  },
  {
   "cell_type": "code",
   "execution_count": null,
   "metadata": {},
   "outputs": [],
   "source": [
    "leap = int(input(\"Enter the year: \"))\n",
    "if leap%4 ==0:\n",
    "    if leap%100 == 0:\n",
    "        if leap%400 == 0:\n",
    "            print(\"The year is a leap year.\")\n",
    "        else:\n",
    "            print(\"The year is not a leap year.\")\n",
    "    else:\n",
    "        print(\"The year is a leap year.\")\n",
    "else:\n",
    "    print(\"The year is not a leap year.\")"
   ]
  },
  {
   "cell_type": "markdown",
   "metadata": {},
   "source": [
    "This code checks for leap years using nested if statements. If the year is divisible by 4, it checks if it is also divisible by 100. If so, it further checks if it is divisible by 400. The correct message is printed based on these conditions."
   ]
  },
  {
   "cell_type": "markdown",
   "metadata": {},
   "source": [
    "#### **Common Errors and Best Practices**\n",
    "- Ensure proper indentation for all conditional blocks.\n",
    "- Always use a colon (:) after if, elif, and else statements.\n",
    "- Manage the order of conditions carefully, especially in nested statements."
   ]
  },
  {
   "cell_type": "markdown",
   "metadata": {},
   "source": [
    "#### Assignment: Simple Calculator\n",
    "Create a simple calculator program that takes input from the user and performs different operations based on the user's choice using if, elif, and else statements."
   ]
  },
  {
   "cell_type": "code",
   "execution_count": null,
   "metadata": {},
   "outputs": [],
   "source": [
    "num1 = float(input(\"Enter the first number: \"))\n",
    "num2 = float(input(\"Enter the second number: \"))\n",
    "operation = input(\"Enter operation (+, -, *, /): \")\n",
    "if operation == '+':\n",
    "    result = num1 + num2\n",
    "    print(result)\n",
    "elif operation == '-':\n",
    "    result = num1 - num2\n",
    "    print(result)\n",
    "elif operation == '*':\n",
    "    result = num1 * num2\n",
    "    print(result)\n",
    "elif operation == '/':\n",
    "    if num2 != 0:\n",
    "        result = num1 / num2\n",
    "        print(result)\n",
    "    else:\n",
    "        print(\"Cannot divide by zero.\")\n",
    "else:\n",
    "    print(\"Invalid operation.\")"
   ]
  },
  {
   "cell_type": "markdown",
   "metadata": {},
   "source": [
    "#### Assignment: Ticket Price Based on Age\n",
    "Another example is to determine the ticket price based on age and student status. Try to implement this logic using conditional statements as discussed."
   ]
  },
  {
   "cell_type": "markdown",
   "metadata": {},
   "source": [
    "#### **Conclusion**\n",
    "This session covered the use of if, elif, and else statements, including nested conditional statements, practical examples, and common mistakes. Practice these concepts to strengthen your understanding of control flow in Python."
   ]
  },
  {
   "cell_type": "markdown",
   "metadata": {},
   "source": [
    "#### **Key Takeaways**\n",
    "- Conditional statements in Python include if, elif, and else, allowing for decision-making in code.\n",
    "- Proper indentation and use of colons are essential for correct execution of conditional blocks.\n",
    "- Nested conditional statements enable complex decision structures within code.\n",
    "- Practical examples, such as leap year calculation and simple calculators, reinforce understanding of conditional logic."
   ]
  }
 ],
 "metadata": {
  "kernelspec": {
   "display_name": "pbenv",
   "language": "python",
   "name": "python3"
  },
  "language_info": {
   "codemirror_mode": {
    "name": "ipython",
    "version": 3
   },
   "file_extension": ".py",
   "mimetype": "text/x-python",
   "name": "python",
   "nbconvert_exporter": "python",
   "pygments_lexer": "ipython3",
   "version": "3.13.0"
  }
 },
 "nbformat": 4,
 "nbformat_minor": 2
}
